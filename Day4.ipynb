{
 "cells": [
  {
   "cell_type": "markdown",
   "metadata": {},
   "source": [
    "# --- Day 4: Passport Processing ---"
   ]
  },
  {
   "cell_type": "markdown",
   "metadata": {},
   "source": [
    "### Daniele Rizzo"
   ]
  },
  {
   "cell_type": "markdown",
   "metadata": {},
   "source": [
    "#### --- Part One ---"
   ]
  },
  {
   "cell_type": "markdown",
   "metadata": {},
   "source": [
    "The automatic passport scanners are slow because they're having trouble detecting which passports have all required fields. The expected fields are as follows:\n",
    "\n",
    "```\n",
    "byr (Birth Year)\n",
    "\n",
    "iyr (Issue Year)\n",
    "\n",
    "eyr (Expiration Year)\n",
    "\n",
    "hgt (Height)\n",
    "\n",
    "hcl (Hair Color)\n",
    "\n",
    "ecl (Eye Color)\n",
    "\n",
    "pid (Passport ID)\n",
    "\n",
    "cid (Country ID)\n",
    "```\n",
    "Surely, nobody would mind if you made the system temporarily ignore missing cid fields. Treat this \"passport\" as valid.\n",
    "\n",
    "`Count the number of valid passports - those that have all required fields. Treat cid as optional. In your batch file, how many passports are valid?`"
   ]
  },
  {
   "cell_type": "code",
   "execution_count": 1,
   "metadata": {},
   "outputs": [],
   "source": [
    "import re"
   ]
  },
  {
   "cell_type": "markdown",
   "metadata": {},
   "source": [
    "Definition of a function to check whether or not the field CID is in the passport"
   ]
  },
  {
   "cell_type": "code",
   "execution_count": 2,
   "metadata": {},
   "outputs": [],
   "source": [
    "def check_cid(l):\n",
    "    return len([x for x in l if 'cid' in x])"
   ]
  },
  {
   "cell_type": "code",
   "execution_count": 3,
   "metadata": {},
   "outputs": [],
   "source": [
    "def valid_passports(passports, tmp = None):  \n",
    "    if tmp == None:\n",
    "        tmp = []\n",
    "    for i in passports:\n",
    "        if len(passports[i]) == 8:\n",
    "            tmp.append(passports[i])\n",
    "        elif len(passports[i]) == 7 and check_cid(passports[i]) == 0:\n",
    "            tmp.append(passports[i])\n",
    "    return tmp"
   ]
  },
  {
   "cell_type": "code",
   "execution_count": 4,
   "metadata": {},
   "outputs": [],
   "source": [
    "with open('passports.txt') as file:\n",
    "    tmp = (file.readlines())"
   ]
  },
  {
   "cell_type": "code",
   "execution_count": 6,
   "metadata": {},
   "outputs": [
    {
     "data": {
      "text/plain": [
       "['byr:1971',\n",
       " 'eyr:2039',\n",
       " 'hgt:172in',\n",
       " 'pid:170cm',\n",
       " 'hcl:17106b',\n",
       " 'iyr:2012',\n",
       " 'ecl:gry',\n",
       " 'cid:339']"
      ]
     },
     "execution_count": 6,
     "metadata": {},
     "output_type": "execute_result"
    }
   ],
   "source": [
    "passports = {}\n",
    "c = 0\n",
    "passports[c]=[]\n",
    "for i in tmp:\n",
    "    if i != '\\n':\n",
    "        passports[c] += (i.strip('\\n').split(' '))\n",
    "    if i == '\\n':\n",
    "        c += 1\n",
    "        passports[c] = []\n",
    "\n",
    "\n",
    "passports[0]"
   ]
  },
  {
   "cell_type": "markdown",
   "metadata": {},
   "source": [
    "Let's count the number of valid passports from the passports list"
   ]
  },
  {
   "cell_type": "code",
   "execution_count": 7,
   "metadata": {},
   "outputs": [
    {
     "data": {
      "text/plain": [
       "242"
      ]
     },
     "execution_count": 7,
     "metadata": {},
     "output_type": "execute_result"
    }
   ],
   "source": [
    "len(valid_passports(passports))"
   ]
  },
  {
   "cell_type": "markdown",
   "metadata": {},
   "source": [
    "#### --- Part Two ---"
   ]
  },
  {
   "cell_type": "markdown",
   "metadata": {},
   "source": [
    "You can continue to ignore the cid field, but each other field has strict rules about what values are valid for automatic validation:\n",
    "```\n",
    "byr (Birth Year) - four digits; at least 1920 and at most 2002.\n",
    "iyr (Issue Year) - four digits; at least 2010 and at most 2020.\n",
    "eyr (Expiration Year) - four digits; at least 2020 and at most 2030.\n",
    "hgt (Height) - a number followed by either cm or in:\n",
    "If cm, the number must be at least 150 and at most 193.\n",
    "If in, the number must be at least 59 and at most 76.\n",
    "hcl (Hair Color) - a # followed by exactly six characters 0-9 or a-f.\n",
    "ecl (Eye Color) - exactly one of: amb blu brn gry grn hzl oth.\n",
    "pid (Passport ID) - a nine-digit number, including leading zeroes.\n",
    "cid (Country ID) - ignored, missing or not.\n",
    "```\n",
    "\n",
    "`Your job is to count the passports where all required fields are both present and valid according to the above rules.`"
   ]
  },
  {
   "cell_type": "markdown",
   "metadata": {},
   "source": [
    "New validation setup"
   ]
  },
  {
   "cell_type": "code",
   "execution_count": 8,
   "metadata": {},
   "outputs": [],
   "source": [
    "byr = '(?P<byr>byr:19[2-9][0-9]|200[0-2]$)|'\n",
    "iyr = '(?P<iyr>iyr:201[0-9]|2020$)|'\n",
    "eyr = '(?P<eyr>eyr:202[0-9]|2030$)|'\n",
    "hgt = '(?P<hgtcm>hgt:1[5-8][0-9]cm|19[0-3]cm)|(?P<hgtin>hgt:59in|6[0-9]in|7[0-6]in$)|'\n",
    "hcl = '(?P<hcl>hcl:#\\w{6}$)|'\n",
    "ecl = '(?P<ecl>ecl:(amb|blu|brn|gry|grn|hzl|oth)$)|'\n",
    "pid = '(?P<pid>pid:[0-9]{9}$)|'\n",
    "cid = '(?P<cid>cid:\\d*$)'\n",
    "\n",
    "regex = byr + iyr + eyr + hgt + hcl + ecl + pid + cid"
   ]
  },
  {
   "cell_type": "code",
   "execution_count": 9,
   "metadata": {},
   "outputs": [],
   "source": [
    "src = re.compile(regex)"
   ]
  },
  {
   "cell_type": "code",
   "execution_count": null,
   "metadata": {
    "scrolled": true
   },
   "outputs": [],
   "source": [
    "tmp_valids = []\n",
    "count = 0 \n",
    "for i in valid_passports(passports):\n",
    "    tmp_valids = [src.search(j) for j in i]\n",
    "    if all(tmp_valids):\n",
    "        count += 1\n",
    "print(count)\n"
   ]
  }
 ],
 "metadata": {
  "kernelspec": {
   "display_name": "Python 3",
   "language": "python",
   "name": "python3"
  },
  "language_info": {
   "codemirror_mode": {
    "name": "ipython",
    "version": 3
   },
   "file_extension": ".py",
   "mimetype": "text/x-python",
   "name": "python",
   "nbconvert_exporter": "python",
   "pygments_lexer": "ipython3",
   "version": "3.8.3"
  }
 },
 "nbformat": 4,
 "nbformat_minor": 4
}
