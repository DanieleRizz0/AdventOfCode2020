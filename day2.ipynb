{
 "cells": [
  {
   "cell_type": "markdown",
   "metadata": {},
   "source": [
    "## --- Day 2: Password Philosophy ---"
   ]
  },
  {
   "cell_type": "markdown",
   "metadata": {},
   "source": [
    "#### Part One - How many passwords are valid according to their policies?"
   ]
  },
  {
   "cell_type": "markdown",
   "metadata": {},
   "source": [
    "Each line gives the password policy and then the password. The password policy indicates the lowest and highest number of times a given letter must appear for the password to be valid. For example, 1-3 a means that the password must contain a at least 1 time and at most 3 times."
   ]
  },
  {
   "cell_type": "code",
   "execution_count": 1,
   "metadata": {},
   "outputs": [],
   "source": [
    "import re\n",
    "import pandas as pd"
   ]
  },
  {
   "cell_type": "code",
   "execution_count": 2,
   "metadata": {},
   "outputs": [
    {
     "data": {
      "text/plain": [
       "['5-9 g: ggccggmgn',\n",
       " '11-16 l: llllqllllllllflq',\n",
       " '3-6 q: qvqqqpzqd',\n",
       " '6-11 f: ffffpcffffp',\n",
       " '7-8 l: lllqlwtqll']"
      ]
     },
     "execution_count": 2,
     "metadata": {},
     "output_type": "execute_result"
    }
   ],
   "source": [
    "with open('password.txt') as file:\n",
    "    tmp = file.readlines()\n",
    "\n",
    "psswd = []\n",
    "for i in tmp:\n",
    "    psswd.append(i.strip('\\n'))\n",
    "    \n",
    "    \n",
    "psswd[:5]"
   ]
  },
  {
   "cell_type": "code",
   "execution_count": 3,
   "metadata": {},
   "outputs": [],
   "source": [
    "src = re.compile('(?P<range>\\d+-\\d+) (?P<letter>[a-z]: )(?P<pssw>\\w*$)')"
   ]
  },
  {
   "cell_type": "code",
   "execution_count": 4,
   "metadata": {},
   "outputs": [],
   "source": [
    "df = pd.DataFrame({'range': [], 'letter': [], 'pssw': []})"
   ]
  },
  {
   "cell_type": "code",
   "execution_count": 5,
   "metadata": {},
   "outputs": [],
   "source": [
    "for i in range(len(psswd)):\n",
    "    p = src.search(psswd[i])\n",
    "    df.loc[i,'range'] = p.group('range')\n",
    "    df.loc[i,'letter'] = p.group('letter')\n",
    "    df.loc[i,'pssw'] = p.group('pssw')"
   ]
  },
  {
   "cell_type": "code",
   "execution_count": 6,
   "metadata": {},
   "outputs": [
    {
     "data": {
      "text/html": [
       "<div>\n",
       "<style scoped>\n",
       "    .dataframe tbody tr th:only-of-type {\n",
       "        vertical-align: middle;\n",
       "    }\n",
       "\n",
       "    .dataframe tbody tr th {\n",
       "        vertical-align: top;\n",
       "    }\n",
       "\n",
       "    .dataframe thead th {\n",
       "        text-align: right;\n",
       "    }\n",
       "</style>\n",
       "<table border=\"1\" class=\"dataframe\">\n",
       "  <thead>\n",
       "    <tr style=\"text-align: right;\">\n",
       "      <th></th>\n",
       "      <th>range</th>\n",
       "      <th>letter</th>\n",
       "      <th>pssw</th>\n",
       "    </tr>\n",
       "  </thead>\n",
       "  <tbody>\n",
       "    <tr>\n",
       "      <th>0</th>\n",
       "      <td>5-9</td>\n",
       "      <td>g:</td>\n",
       "      <td>ggccggmgn</td>\n",
       "    </tr>\n",
       "    <tr>\n",
       "      <th>1</th>\n",
       "      <td>11-16</td>\n",
       "      <td>l:</td>\n",
       "      <td>llllqllllllllflq</td>\n",
       "    </tr>\n",
       "    <tr>\n",
       "      <th>2</th>\n",
       "      <td>3-6</td>\n",
       "      <td>q:</td>\n",
       "      <td>qvqqqpzqd</td>\n",
       "    </tr>\n",
       "    <tr>\n",
       "      <th>3</th>\n",
       "      <td>6-11</td>\n",
       "      <td>f:</td>\n",
       "      <td>ffffpcffffp</td>\n",
       "    </tr>\n",
       "    <tr>\n",
       "      <th>4</th>\n",
       "      <td>7-8</td>\n",
       "      <td>l:</td>\n",
       "      <td>lllqlwtqll</td>\n",
       "    </tr>\n",
       "  </tbody>\n",
       "</table>\n",
       "</div>"
      ],
      "text/plain": [
       "   range letter              pssw\n",
       "0    5-9    g:          ggccggmgn\n",
       "1  11-16    l:   llllqllllllllflq\n",
       "2    3-6    q:          qvqqqpzqd\n",
       "3   6-11    f:        ffffpcffffp\n",
       "4    7-8    l:         lllqlwtqll"
      ]
     },
     "execution_count": 6,
     "metadata": {},
     "output_type": "execute_result"
    }
   ],
   "source": [
    "df.head()"
   ]
  },
  {
   "cell_type": "code",
   "execution_count": 7,
   "metadata": {},
   "outputs": [],
   "source": [
    "df.letter = df.letter.str.strip(': ')\n",
    "df[['inf','sup']] = df.range.str.split('-', expand = True)"
   ]
  },
  {
   "cell_type": "code",
   "execution_count": 8,
   "metadata": {},
   "outputs": [
    {
     "data": {
      "text/html": [
       "<div>\n",
       "<style scoped>\n",
       "    .dataframe tbody tr th:only-of-type {\n",
       "        vertical-align: middle;\n",
       "    }\n",
       "\n",
       "    .dataframe tbody tr th {\n",
       "        vertical-align: top;\n",
       "    }\n",
       "\n",
       "    .dataframe thead th {\n",
       "        text-align: right;\n",
       "    }\n",
       "</style>\n",
       "<table border=\"1\" class=\"dataframe\">\n",
       "  <thead>\n",
       "    <tr style=\"text-align: right;\">\n",
       "      <th></th>\n",
       "      <th>range</th>\n",
       "      <th>letter</th>\n",
       "      <th>pssw</th>\n",
       "      <th>inf</th>\n",
       "      <th>sup</th>\n",
       "    </tr>\n",
       "  </thead>\n",
       "  <tbody>\n",
       "    <tr>\n",
       "      <th>0</th>\n",
       "      <td>5-9</td>\n",
       "      <td>g</td>\n",
       "      <td>ggccggmgn</td>\n",
       "      <td>5</td>\n",
       "      <td>9</td>\n",
       "    </tr>\n",
       "    <tr>\n",
       "      <th>1</th>\n",
       "      <td>11-16</td>\n",
       "      <td>l</td>\n",
       "      <td>llllqllllllllflq</td>\n",
       "      <td>11</td>\n",
       "      <td>16</td>\n",
       "    </tr>\n",
       "    <tr>\n",
       "      <th>2</th>\n",
       "      <td>3-6</td>\n",
       "      <td>q</td>\n",
       "      <td>qvqqqpzqd</td>\n",
       "      <td>3</td>\n",
       "      <td>6</td>\n",
       "    </tr>\n",
       "    <tr>\n",
       "      <th>3</th>\n",
       "      <td>6-11</td>\n",
       "      <td>f</td>\n",
       "      <td>ffffpcffffp</td>\n",
       "      <td>6</td>\n",
       "      <td>11</td>\n",
       "    </tr>\n",
       "    <tr>\n",
       "      <th>4</th>\n",
       "      <td>7-8</td>\n",
       "      <td>l</td>\n",
       "      <td>lllqlwtqll</td>\n",
       "      <td>7</td>\n",
       "      <td>8</td>\n",
       "    </tr>\n",
       "    <tr>\n",
       "      <th>...</th>\n",
       "      <td>...</td>\n",
       "      <td>...</td>\n",
       "      <td>...</td>\n",
       "      <td>...</td>\n",
       "      <td>...</td>\n",
       "    </tr>\n",
       "    <tr>\n",
       "      <th>995</th>\n",
       "      <td>17-20</td>\n",
       "      <td>k</td>\n",
       "      <td>kkkkkkkkkkkkkkkkkkkk</td>\n",
       "      <td>17</td>\n",
       "      <td>20</td>\n",
       "    </tr>\n",
       "    <tr>\n",
       "      <th>996</th>\n",
       "      <td>3-5</td>\n",
       "      <td>q</td>\n",
       "      <td>hjqrqsq</td>\n",
       "      <td>3</td>\n",
       "      <td>5</td>\n",
       "    </tr>\n",
       "    <tr>\n",
       "      <th>997</th>\n",
       "      <td>12-13</td>\n",
       "      <td>h</td>\n",
       "      <td>hhhhhhhhfhhhh</td>\n",
       "      <td>12</td>\n",
       "      <td>13</td>\n",
       "    </tr>\n",
       "    <tr>\n",
       "      <th>998</th>\n",
       "      <td>3-4</td>\n",
       "      <td>x</td>\n",
       "      <td>gxxjphxx</td>\n",
       "      <td>3</td>\n",
       "      <td>4</td>\n",
       "    </tr>\n",
       "    <tr>\n",
       "      <th>999</th>\n",
       "      <td>4-6</td>\n",
       "      <td>g</td>\n",
       "      <td>sbwggg</td>\n",
       "      <td>4</td>\n",
       "      <td>6</td>\n",
       "    </tr>\n",
       "  </tbody>\n",
       "</table>\n",
       "<p>1000 rows × 5 columns</p>\n",
       "</div>"
      ],
      "text/plain": [
       "     range letter                  pssw inf sup\n",
       "0      5-9      g             ggccggmgn   5   9\n",
       "1    11-16      l      llllqllllllllflq  11  16\n",
       "2      3-6      q             qvqqqpzqd   3   6\n",
       "3     6-11      f           ffffpcffffp   6  11\n",
       "4      7-8      l            lllqlwtqll   7   8\n",
       "..     ...    ...                   ...  ..  ..\n",
       "995  17-20      k  kkkkkkkkkkkkkkkkkkkk  17  20\n",
       "996    3-5      q               hjqrqsq   3   5\n",
       "997  12-13      h         hhhhhhhhfhhhh  12  13\n",
       "998    3-4      x              gxxjphxx   3   4\n",
       "999    4-6      g                sbwggg   4   6\n",
       "\n",
       "[1000 rows x 5 columns]"
      ]
     },
     "execution_count": 8,
     "metadata": {},
     "output_type": "execute_result"
    }
   ],
   "source": [
    "df"
   ]
  },
  {
   "cell_type": "code",
   "execution_count": 11,
   "metadata": {},
   "outputs": [
    {
     "data": {
      "text/plain": [
       "458"
      ]
     },
     "execution_count": 11,
     "metadata": {},
     "output_type": "execute_result"
    }
   ],
   "source": [
    "tf = []\n",
    "for i in range(len(df)):\n",
    "    tf.append(  int(df.inf.loc[i]) <= df.pssw.loc[i].count(df.letter.loc[i]) <= int(df.sup.loc[i])  )\n",
    "sum(tf)\n",
    "\n"
   ]
  },
  {
   "cell_type": "markdown",
   "metadata": {},
   "source": [
    "#### Part Two - How many passwords are valid according to the new interpretation of the policies?"
   ]
  },
  {
   "cell_type": "markdown",
   "metadata": {},
   "source": [
    "Each policy actually describes two positions in the password, where 1 means the first character, 2 means the second character, and so on. (Be careful; Toboggan Corporate Policies have no concept of \"index zero\"!) Exactly one of these positions must contain the given letter. Other occurrences of the letter are irrelevant for the purposes of policy enforcement."
   ]
  },
  {
   "cell_type": "code",
   "execution_count": 13,
   "metadata": {},
   "outputs": [
    {
     "data": {
      "text/plain": [
       "342"
      ]
     },
     "execution_count": 13,
     "metadata": {},
     "output_type": "execute_result"
    }
   ],
   "source": [
    "ft = []\n",
    "for i in range(len(df)):\n",
    "    ft.append(df.pssw.loc[i][int(df.inf.loc[i])-1] != df.letter.loc[i] and df.pssw.loc[i][int(df.sup.loc[i])-1] == df.letter.loc[i]\n",
    ")\n",
    "    ft.append(df.pssw.loc[i][int(df.inf.loc[i])-1] == df.letter.loc[i] and df.pssw.loc[i][int(df.sup.loc[i])-1] != df.letter.loc[i]\n",
    ")\n",
    "sum(ft)"
   ]
  }
 ],
 "metadata": {
  "kernelspec": {
   "display_name": "Python 3",
   "language": "python",
   "name": "python3"
  },
  "language_info": {
   "codemirror_mode": {
    "name": "ipython",
    "version": 3
   },
   "file_extension": ".py",
   "mimetype": "text/x-python",
   "name": "python",
   "nbconvert_exporter": "python",
   "pygments_lexer": "ipython3",
   "version": "3.8.3"
  }
 },
 "nbformat": 4,
 "nbformat_minor": 4
}
